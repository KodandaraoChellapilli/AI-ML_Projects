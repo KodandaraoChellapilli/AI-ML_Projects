{
 "cells": [
  {
   "cell_type": "code",
   "execution_count": 3,
   "id": "cf443879-cf30-4a37-b2f0-c2c427cfca52",
   "metadata": {},
   "outputs": [],
   "source": [
    "import numpy as np "
   ]
  },
  {
   "cell_type": "code",
   "execution_count": 13,
   "id": "c547158d-4e0c-45a8-b604-9a0159c19aa2",
   "metadata": {},
   "outputs": [],
   "source": [
    "import statistics as st"
   ]
  },
  {
   "cell_type": "raw",
   "id": "9affe5f6-944a-4003-ac81-ad7060c38b71",
   "metadata": {},
   "source": [
    "from scipy import stats"
   ]
  },
  {
   "cell_type": "code",
   "execution_count": 15,
   "id": "137cac54-e355-4d0d-91e5-e20c8288aeec",
   "metadata": {},
   "outputs": [],
   "source": [
    "data = [10,20,30,40,50]"
   ]
  },
  {
   "cell_type": "code",
   "execution_count": 11,
   "id": "46f66be1-ab37-48ce-93f5-d643d1c9435d",
   "metadata": {},
   "outputs": [],
   "source": [
    "mean_np = np.mean(data)\n"
   ]
  },
  {
   "cell_type": "code",
   "execution_count": 19,
   "id": "6de0c67e-a0da-434b-9228-51cdf6091e36",
   "metadata": {},
   "outputs": [],
   "source": [
    "means_Stats = st.mean(data)"
   ]
  },
  {
   "cell_type": "code",
   "execution_count": 21,
   "id": "4cd156ef-388a-437a-a9f0-c93c45d7866d",
   "metadata": {},
   "outputs": [
    {
     "name": "stdout",
     "output_type": "stream",
     "text": [
      "Mean using numpy :  30.0\n"
     ]
    }
   ],
   "source": [
    "print(\"Mean using numpy : \", mean_np)"
   ]
  },
  {
   "cell_type": "code",
   "execution_count": 25,
   "id": "8abc0d29-39ba-427f-8f37-edd0e7a43105",
   "metadata": {},
   "outputs": [
    {
     "name": "stdout",
     "output_type": "stream",
     "text": [
      "Mean using stattistics: 30\n"
     ]
    }
   ],
   "source": [
    "print(\"Mean using stattistics:\", means_Stats)"
   ]
  },
  {
   "cell_type": "code",
   "execution_count": 27,
   "id": "5e50a858-2d87-4e43-ae1d-c22cb169a3eb",
   "metadata": {},
   "outputs": [],
   "source": [
    "median_np = np.median(data)"
   ]
  },
  {
   "cell_type": "code",
   "execution_count": null,
   "id": "bca4830c-8ca2-4f65-999d-bcb631e0f71e",
   "metadata": {},
   "outputs": [],
   "source": [
    "median_stats = statistics.median(data)"
   ]
  },
  {
   "cell_type": "code",
   "execution_count": 29,
   "id": "6e40fb84-d947-4b26-9f70-61d666e9796e",
   "metadata": {},
   "outputs": [
    {
     "name": "stdout",
     "output_type": "stream",
     "text": [
      "median using numpy: 30.0\n"
     ]
    }
   ],
   "source": [
    "print(\"median using numpy:\", median_np)"
   ]
  }
 ],
 "metadata": {
  "kernelspec": {
   "display_name": "Python [conda env:base] *",
   "language": "python",
   "name": "conda-base-py"
  },
  "language_info": {
   "codemirror_mode": {
    "name": "ipython",
    "version": 3
   },
   "file_extension": ".py",
   "mimetype": "text/x-python",
   "name": "python",
   "nbconvert_exporter": "python",
   "pygments_lexer": "ipython3",
   "version": "3.12.2"
  }
 },
 "nbformat": 4,
 "nbformat_minor": 5
}
