{
 "cells": [
  {
   "cell_type": "code",
   "execution_count": 71,
   "id": "cf443879-cf30-4a37-b2f0-c2c427cfca52",
   "metadata": {},
   "outputs": [],
   "source": [
    "import numpy as np "
   ]
  },
  {
   "cell_type": "code",
   "execution_count": 73,
   "id": "c547158d-4e0c-45a8-b604-9a0159c19aa2",
   "metadata": {},
   "outputs": [],
   "source": [
    "import statistics as st"
   ]
  },
  {
   "cell_type": "raw",
   "id": "9affe5f6-944a-4003-ac81-ad7060c38b71",
   "metadata": {},
   "source": [
    "from scipy import stats"
   ]
  },
  {
   "cell_type": "code",
   "execution_count": 75,
   "id": "137cac54-e355-4d0d-91e5-e20c8288aeec",
   "metadata": {},
   "outputs": [],
   "source": [
    "data = [10,20,30,40,50]"
   ]
  },
  {
   "cell_type": "code",
   "execution_count": 77,
   "id": "46f66be1-ab37-48ce-93f5-d643d1c9435d",
   "metadata": {},
   "outputs": [],
   "source": [
    "mean_np = np.mean(data)\n"
   ]
  },
  {
   "cell_type": "code",
   "execution_count": 79,
   "id": "6de0c67e-a0da-434b-9228-51cdf6091e36",
   "metadata": {},
   "outputs": [],
   "source": [
    "means_Stats = st.mean(data)"
   ]
  },
  {
   "cell_type": "code",
   "execution_count": 81,
   "id": "4cd156ef-388a-437a-a9f0-c93c45d7866d",
   "metadata": {},
   "outputs": [
    {
     "name": "stdout",
     "output_type": "stream",
     "text": [
      "Mean using numpy :  30.0\n"
     ]
    }
   ],
   "source": [
    "print(\"Mean using numpy : \", mean_np)"
   ]
  },
  {
   "cell_type": "code",
   "execution_count": 83,
   "id": "8abc0d29-39ba-427f-8f37-edd0e7a43105",
   "metadata": {},
   "outputs": [
    {
     "name": "stdout",
     "output_type": "stream",
     "text": [
      "Mean using stattistics: 30\n"
     ]
    }
   ],
   "source": [
    "print(\"Mean using stattistics:\", means_Stats)"
   ]
  },
  {
   "cell_type": "code",
   "execution_count": 85,
   "id": "5e50a858-2d87-4e43-ae1d-c22cb169a3eb",
   "metadata": {},
   "outputs": [],
   "source": [
    "median_np = np.median(data)"
   ]
  },
  {
   "cell_type": "code",
   "execution_count": 87,
   "id": "bca4830c-8ca2-4f65-999d-bcb631e0f71e",
   "metadata": {},
   "outputs": [],
   "source": [
    "median_stats = statistics.median(data)"
   ]
  },
  {
   "cell_type": "code",
   "execution_count": 89,
   "id": "6e40fb84-d947-4b26-9f70-61d666e9796e",
   "metadata": {},
   "outputs": [
    {
     "name": "stdout",
     "output_type": "stream",
     "text": [
      "median using numpy: 30.0\n"
     ]
    }
   ],
   "source": [
    "print(\"median using numpy:\", median_np)"
   ]
  },
  {
   "cell_type": "code",
   "execution_count": 91,
   "id": "6098cb56-cb51-4314-9279-47fbdd44315b",
   "metadata": {},
   "outputs": [
    {
     "name": "stdout",
     "output_type": "stream",
     "text": [
      "median using statistics 30\n"
     ]
    }
   ],
   "source": [
    "print(\"median using statistics\", median_stats)"
   ]
  },
  {
   "cell_type": "code",
   "execution_count": 93,
   "id": "a65b67b7-b4a5-420b-87da-818ea0a80cf2",
   "metadata": {},
   "outputs": [],
   "source": [
    "data_with_mode = [1,2,2,3,3,3,4]"
   ]
  },
  {
   "cell_type": "code",
   "execution_count": 97,
   "id": "804bd23a-94cb-43b5-ac8f-5b9b9ece81f0",
   "metadata": {},
   "outputs": [],
   "source": [
    "mode_stats = statistics.mode(data_with_mode)"
   ]
  },
  {
   "cell_type": "code",
   "execution_count": 99,
   "id": "31ecb0c1-6b31-4a5c-9239-a27644286096",
   "metadata": {},
   "outputs": [],
   "source": [
    "mode_scipy = st.mode(data_with_mode)"
   ]
  },
  {
   "cell_type": "code",
   "execution_count": 101,
   "id": "6edea080-5ec8-4667-8e04-a90a9bcb4237",
   "metadata": {},
   "outputs": [
    {
     "name": "stdout",
     "output_type": "stream",
     "text": [
      "Mode using statistics 3\n"
     ]
    }
   ],
   "source": [
    "print(\"Mode using statistics\", mode_stats )"
   ]
  },
  {
   "cell_type": "code",
   "execution_count": null,
   "id": "d9658146-afef-43a7-be58-4610ce798bc1",
   "metadata": {},
   "outputs": [],
   "source": []
  }
 ],
 "metadata": {
  "kernelspec": {
   "display_name": "Python [conda env:base] *",
   "language": "python",
   "name": "conda-base-py"
  },
  "language_info": {
   "codemirror_mode": {
    "name": "ipython",
    "version": 3
   },
   "file_extension": ".py",
   "mimetype": "text/x-python",
   "name": "python",
   "nbconvert_exporter": "python",
   "pygments_lexer": "ipython3",
   "version": "3.12.2"
  }
 },
 "nbformat": 4,
 "nbformat_minor": 5
}
